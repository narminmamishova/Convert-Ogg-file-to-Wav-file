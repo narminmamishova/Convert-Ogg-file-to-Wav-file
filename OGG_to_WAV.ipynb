{
 "cells": [
  {
   "cell_type": "code",
   "execution_count": 18,
   "id": "57445a71-6773-42e8-9105-6fbd8ca8a4ee",
   "metadata": {},
   "outputs": [],
   "source": [
    "import os\n",
    "import pandas as pd\n",
    "from pydub import AudioSegment"
   ]
  },
  {
   "cell_type": "code",
   "execution_count": 19,
   "id": "80b69d80-42dc-4255-a421-92e4eba35831",
   "metadata": {},
   "outputs": [],
   "source": [
    "loc = os.getcwd()\n",
    "#loc"
   ]
  },
  {
   "cell_type": "code",
   "execution_count": 20,
   "id": "7781216a-0cdd-4d1b-aa4a-69ca03534f16",
   "metadata": {},
   "outputs": [],
   "source": [
    "def create_df_from_audio(path):\n",
    "  # full_data = pd.DataFrame(columns = [f\"{path.split(chr(92))[-1]}\"])\n",
    "  full_data = pd.DataFrame(columns = [\"file_name\"])\n",
    "  for i, data in enumerate(os.listdir(path)):\n",
    "    full_data.loc[i] = data\n",
    "  return full_data"
   ]
  },
  {
   "cell_type": "code",
   "execution_count": 21,
   "id": "6a11bddf-0af6-42e3-8bd7-a67cfa66d9fa",
   "metadata": {},
   "outputs": [
    {
     "data": {
      "text/html": [
       "<div>\n",
       "<style scoped>\n",
       "    .dataframe tbody tr th:only-of-type {\n",
       "        vertical-align: middle;\n",
       "    }\n",
       "\n",
       "    .dataframe tbody tr th {\n",
       "        vertical-align: top;\n",
       "    }\n",
       "\n",
       "    .dataframe thead th {\n",
       "        text-align: right;\n",
       "    }\n",
       "</style>\n",
       "<table border=\"1\" class=\"dataframe\">\n",
       "  <thead>\n",
       "    <tr style=\"text-align: right;\">\n",
       "      <th></th>\n",
       "      <th>file_name</th>\n",
       "    </tr>\n",
       "  </thead>\n",
       "  <tbody>\n",
       "    <tr>\n",
       "      <th>0</th>\n",
       "      <td>file_example_1MG.ogg</td>\n",
       "    </tr>\n",
       "    <tr>\n",
       "      <th>1</th>\n",
       "      <td>file_example_2MG.ogg</td>\n",
       "    </tr>\n",
       "    <tr>\n",
       "      <th>2</th>\n",
       "      <td>file_example_5MG.ogg</td>\n",
       "    </tr>\n",
       "  </tbody>\n",
       "</table>\n",
       "</div>"
      ],
      "text/plain": [
       "              file_name\n",
       "0  file_example_1MG.ogg\n",
       "1  file_example_2MG.ogg\n",
       "2  file_example_5MG.ogg"
      ]
     },
     "execution_count": 21,
     "metadata": {},
     "output_type": "execute_result"
    }
   ],
   "source": [
    "df_full = create_df_from_audio(f\"{loc}\\\\OGG_Files\")\n",
    "df_full"
   ]
  },
  {
   "cell_type": "code",
   "execution_count": 22,
   "id": "e2895a76-1036-466d-b7b8-996fba6ca2cb",
   "metadata": {},
   "outputs": [],
   "source": [
    "def create_wav_folder(path):\n",
    "    isExist = os.path.exists(path)\n",
    "    if not isExist:\n",
    "       # Create a new directory because it does not exist\n",
    "       os.makedirs(path)\n",
    "    return path"
   ]
  },
  {
   "cell_type": "code",
   "execution_count": 23,
   "id": "a35a830f-f9a0-4f88-b5db-ef1a62121534",
   "metadata": {},
   "outputs": [],
   "source": [
    "wav_path = create_wav_folder(f'{loc}\\\\WAV_Files')"
   ]
  },
  {
   "cell_type": "code",
   "execution_count": 27,
   "id": "c0d5d823-abd5-429b-bfad-5be63bf420a0",
   "metadata": {},
   "outputs": [],
   "source": [
    "#ogg filedan wava cevirir\n",
    "def convert_to_wav(ogg_path):\n",
    "    file_name = ogg_path.split(chr(92))[-1]\n",
    "    # print(file_name)\n",
    "    try:\n",
    "        aud = AudioSegment.from_ogg(ogg_path)\n",
    "        wav  = f'{wav_path}\\\\{file_name}.wav'\n",
    "        #print(wav_path)\n",
    "        aud.export(wav, format=\"wav\")\n",
    "    except:\n",
    "        pass"
   ]
  },
  {
   "cell_type": "code",
   "execution_count": 28,
   "id": "768cd11f-d870-4390-8557-4194f8919caa",
   "metadata": {},
   "outputs": [
    {
     "data": {
      "text/plain": [
       "0    None\n",
       "1    None\n",
       "2    None\n",
       "Name: file_name, dtype: object"
      ]
     },
     "execution_count": 28,
     "metadata": {},
     "output_type": "execute_result"
    }
   ],
   "source": [
    "df_full.file_name.apply(lambda x: convert_to_wav(f'{loc}\\\\OGG_Files\\\\{x}'))"
   ]
  }
 ],
 "metadata": {
  "kernelspec": {
   "display_name": "Python 3 (ipykernel)",
   "language": "python",
   "name": "python3"
  },
  "language_info": {
   "codemirror_mode": {
    "name": "ipython",
    "version": 3
   },
   "file_extension": ".py",
   "mimetype": "text/x-python",
   "name": "python",
   "nbconvert_exporter": "python",
   "pygments_lexer": "ipython3",
   "version": "3.10.13"
  }
 },
 "nbformat": 4,
 "nbformat_minor": 5
}
